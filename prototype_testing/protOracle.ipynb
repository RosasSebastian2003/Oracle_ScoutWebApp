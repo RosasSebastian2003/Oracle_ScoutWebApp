{
 "cells": [
  {
   "cell_type": "markdown",
   "metadata": {},
   "source": [
    "Pre-installed library imports"
   ]
  },
  {
   "cell_type": "code",
   "execution_count": 2,
   "metadata": {},
   "outputs": [],
   "source": [
    "\n",
    "import importlib\n",
    "import subprocess\n",
    "import sys\n",
    "import datetime as time"
   ]
  },
  {
   "cell_type": "markdown",
   "metadata": {},
   "source": [
    "Function to check if the libraries used in this code are already installed"
   ]
  },
  {
   "cell_type": "code",
   "execution_count": 3,
   "metadata": {},
   "outputs": [],
   "source": [
    "def checkIfInstalled(library):\n",
    "    try:\n",
    "        importlib.import_module(library)\n",
    "        print(f'{library} is installed')\n",
    "    \n",
    "    except ImportError:\n",
    "        print(f'{library} is not installed, installing...')\n",
    "        \n",
    "        # Using sys.executable to install the library in the same python version, and -m to run the module as a script and ensure the correct version is used\n",
    "        subprocess.run([sys.executable,'-m', 'pip', 'install', library])"
   ]
  },
  {
   "cell_type": "markdown",
   "metadata": {},
   "source": [
    "Aditional library imports "
   ]
  },
  {
   "cell_type": "code",
   "execution_count": 4,
   "metadata": {},
   "outputs": [
    {
     "name": "stdout",
     "output_type": "stream",
     "text": [
      "requests is installed\n"
     ]
    }
   ],
   "source": [
    "# Requests library, used to make HTTP requests\n",
    "checkIfInstalled('requests')\n",
    "import requests"
   ]
  },
  {
   "cell_type": "markdown",
   "metadata": {},
   "source": [
    "TBA API setup"
   ]
  },
  {
   "cell_type": "code",
   "execution_count": 5,
   "metadata": {},
   "outputs": [
    {
     "name": "stdout",
     "output_type": "stream",
     "text": [
      "200\n"
     ]
    }
   ],
   "source": [
    "url = \"https://www.thebluealliance.com/api/v3\"\n",
    "header = {\"X-TBA-Auth-Key\":\"E5xeD6sWIPJe5QDAgtoXzoHkQpKxaoOJlyGXThQBH4SztWmnfEgSbjYLFbC40r1E\"}\n",
    "\n",
    "# Availability check\n",
    "testResponse = requests.get(url + \"/status\", headers=header)\n",
    "\n",
    "print(testResponse.status_code)"
   ]
  },
  {
   "cell_type": "markdown",
   "metadata": {},
   "source": [
    "Fetch individual team data \n",
    "    -fetchRecursive: Recursively iterates through a list of dictionaries containing team data checking coincidences on a given team number, if there's a match, a dictionary containing team data is returned, else, an empty list is returned\n",
    "\n",
    "    -fetchTeamData: Recursively extracts team lists from TBA API and uses fetchRecursive to find a team's data given a team number"
   ]
  },
  {
   "cell_type": "markdown",
   "metadata": {},
   "source": [
    "FRC team class "
   ]
  },
  {
   "cell_type": "code",
   "execution_count": 6,
   "metadata": {},
   "outputs": [
    {
     "name": "stdout",
     "output_type": "stream",
     "text": [
      "{'_Team__teamKey': 'frc4403', 'teamNumber': 4403, 'name': 'PEÑOLES&PrepaTec Laguna', 'city': 'Torreon', 'state': 'Coahuila', 'country': 'Mexico'}\n"
     ]
    }
   ],
   "source": [
    "class Team:\n",
    "    # Static Methods\n",
    "    @staticmethod\n",
    "    def fetchRecursive(teamsJson, teamNumber):\n",
    "        if len(teamsJson) == 0:\n",
    "            return []\n",
    "        else:\n",
    "            if (teamNumber == teamsJson[0][\"team_number\"]):\n",
    "                return teamsJson[0] # Returns team dictionary\n",
    "            else:\n",
    "                return Team.fetchRecursive(teamsJson[1:], teamNumber)\n",
    "               \n",
    "    @staticmethod\n",
    "    def fetchTeamData(teamNumber, page = 0):\n",
    "        teamsJson = requests.get(url + f\"/teams/2023/{page}/simple\", headers=header).json()\n",
    "    \n",
    "        if len(teamsJson) == 0:\n",
    "            return []\n",
    "        else:\n",
    "            out = Team.fetchRecursive(teamsJson, teamNumber)\n",
    "        if type(out) == dict:\n",
    "            return out \n",
    "        else:\n",
    "            return Team.fetchTeamData(teamNumber, page + 1)\n",
    "        \n",
    "    # Class Methods    \n",
    "    @classmethod\n",
    "    def instanceByTeamNumber(cls, teamNumber):\n",
    "        return Team(Team.fetchTeamData(teamNumber))\n",
    "\n",
    "    # Constructor\n",
    "    def __init__(self, teamDict):\n",
    "        # Private atrributes\n",
    "        self.__teamKey = teamDict[\"key\"]\n",
    "        \n",
    "        # Public attributes\n",
    "        self.teamNumber = teamDict[\"team_number\"]\n",
    "        self.name = teamDict[\"name\"]\n",
    "        self.city = teamDict[\"city\"]\n",
    "        self.state = teamDict[\"state_prov\"]\n",
    "        self.country = teamDict[\"country\"]\n",
    "        \n",
    "    @property\n",
    "    def teamKey(self):\n",
    "        return self.__teamKey\n",
    "    \n",
    "    def __repr__(self):\n",
    "        return f\"Team {self.teamNumber}\"\n",
    "\n",
    "team4403 = Team.instanceByTeamNumber(4403)\n",
    "\n",
    "print(team4403.__dict__)"
   ]
  },
  {
   "cell_type": "markdown",
   "metadata": {},
   "source": [
    "Event, Match and Alliance Classes"
   ]
  },
  {
   "cell_type": "code",
   "execution_count": 7,
   "metadata": {},
   "outputs": [],
   "source": [
    "class Event:\n",
    "    # Static Methods \n",
    "    @staticmethod\n",
    "    def setDate(dateString):\n",
    "        return time.datetime.strptime(dateString, \"%Y-%m-%d\").date()\n",
    "    # Class Methods\n",
    "    # Constructor\n",
    "    def __init__(self, eventDict):\n",
    "        self.__eventKey = eventDict[\"key\"]\n",
    "        self.__eventCode = eventDict[\"event_code\"]\n",
    "        self.__eventType = eventDict[\"event_type\"]\n",
    "        \n",
    "        self.name = eventDict[\"name\"]\n",
    "        self.city = eventDict[\"city\"]\n",
    "        self.state = eventDict[\"state_prov\"]\n",
    "        self.country = eventDict[\"country\"]\n",
    "        \n",
    "        self.startDate = Event.setDate(eventDict[\"start_date\"])\n",
    "        self.endDate = Event.setDate(eventDict[\"end_date\"])\n",
    "        \n",
    "        self.year = int(eventDict[\"year\"])\n",
    "        self.week = int(eventDict[\"week\"])\n",
    "        \n",
    "    \n",
    "    @property\n",
    "    def eventKey(self):\n",
    "        return self.__eventKey\n",
    "    \n",
    "    @property\n",
    "    def eventCode(self):\n",
    "        return self.__eventCode\n",
    "    \n",
    "    @property\n",
    "    def eventType(self):\n",
    "        return self.__eventType\n",
    "        "
   ]
  },
  {
   "cell_type": "markdown",
   "metadata": {},
   "source": [
    "Gonna make a unique class for managing API endpoints, function tests below"
   ]
  },
  {
   "cell_type": "markdown",
   "metadata": {},
   "source": [
    "Get event keys, as well as event locations for a given year \n",
    "\n",
    "/events/{year}/simple output JSON:\n",
    "[\n",
    "  {\n",
    "    \"key\": \"string\",\n",
    "    \"name\": \"string\",\n",
    "    \"event_code\": \"string\",\n",
    "    \"event_type\": 0,\n",
    "    \"district\": {\n",
    "      \"abbreviation\": \"string\",\n",
    "      \"display_name\": \"string\",\n",
    "      \"key\": \"string\",\n",
    "      \"year\": 0\n",
    "    },\n",
    "    \"city\": \"string\",\n",
    "    \"state_prov\": \"string\",\n",
    "    \"country\": \"string\",\n",
    "    \"start_date\": \"2024-01-10\",\n",
    "    \"end_date\": \"2024-01-10\",\n",
    "    \"year\": 0\n",
    "  }\n",
    "]"
   ]
  },
  {
   "cell_type": "code",
   "execution_count": 29,
   "metadata": {},
   "outputs": [
    {
     "name": "stdout",
     "output_type": "stream",
     "text": [
      "{'city': 'Santa Catarina', 'country': 'Mexico', 'district': None, 'end_date': '2023-09-07', 'event_code': 'mexas', 'event_type': 99, 'key': '2023mexas', 'name': 'Mexico ALL-STAR', 'start_date': '2023-09-05', 'state_prov': 'N.L.', 'year': 2023}\n",
      "{'city': 'Monterrey', 'country': 'Mexico', 'district': None, 'end_date': '2023-03-04', 'event_code': 'mxmo', 'event_type': 0, 'key': '2023mxmo', 'name': 'Regional Monterrey', 'start_date': '2023-03-01', 'state_prov': 'N.L.', 'year': 2023}\n",
      "{'city': 'Heroica Puebla de Zaragoza', 'country': 'Mexico', 'district': None, 'end_date': '2023-03-18', 'event_code': 'mxpu', 'event_type': 0, 'key': '2023mxpu', 'name': 'Regional Puebla', 'start_date': '2023-03-15', 'state_prov': 'Pue.', 'year': 2023}\n",
      "{'city': 'Torreón', 'country': 'Mexico', 'district': None, 'end_date': '2023-03-25', 'event_code': 'mxto', 'event_type': 0, 'key': '2023mxto', 'name': 'Regional Laguna', 'start_date': '2023-03-22', 'state_prov': 'Coah.', 'year': 2023}\n",
      "200\n"
     ]
    }
   ],
   "source": [
    "def fetchEvents_inCountry(year, coutry, printData = False):\n",
    "    eventList = requests.get(url + f\"/events/{year}/simple\", headers = header).json()\n",
    "    \n",
    "    events_inCountry = []\n",
    "    \n",
    "    for event in eventList:\n",
    "        if (coutry.lower() == event[\"country\"].lower()):\n",
    "            events_inCountry.append(event)\n",
    "\n",
    "    \n",
    "    if printData:\n",
    "        for event in events_inCountry:\n",
    "            print(event)\n",
    "    else:\n",
    "        return events_inCountry\n",
    "    \n",
    "fetchEvents_inCountry(2023, 'Mexico', True)\n"
   ]
  },
  {
   "cell_type": "code",
   "execution_count": 41,
   "metadata": {},
   "outputs": [
    {
     "name": "stdout",
     "output_type": "stream",
     "text": [
      "None\n"
     ]
    }
   ],
   "source": [
    "import TBAmanager as tba\n",
    "\n",
    "mytba = tba.TBAmanager(\"E5xeD6sWIPJe5QDAgtoXzoHkQpKxaoOJlyGXThQBH4SztWmnfEgSbjYLFbC40r1E\")\n",
    "\n",
    "print(mytba.listEvents_inCountry(2023, 'Mexico'))"
   ]
  }
 ],
 "metadata": {
  "kernelspec": {
   "display_name": "Python 3",
   "language": "python",
   "name": "python3"
  },
  "language_info": {
   "codemirror_mode": {
    "name": "ipython",
    "version": 3
   },
   "file_extension": ".py",
   "mimetype": "text/x-python",
   "name": "python",
   "nbconvert_exporter": "python",
   "pygments_lexer": "ipython3",
   "version": "3.11.6"
  }
 },
 "nbformat": 4,
 "nbformat_minor": 2
}
